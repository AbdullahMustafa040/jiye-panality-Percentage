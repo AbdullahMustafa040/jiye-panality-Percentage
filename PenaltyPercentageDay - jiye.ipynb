{
  "nbformat": 4,
  "nbformat_minor": 0,
  "metadata": {
    "colab": {
      "provenance": []
    },
    "kernelspec": {
      "name": "python3",
      "display_name": "Python 3"
    },
    "language_info": {
      "name": "python"
    }
  },
  "cells": [
    {
      "cell_type": "code",
      "source": [
        "# Import necessary libraries\n",
        "import firebase_admin\n",
        "from firebase_admin import credentials, firestore\n",
        "from datetime import datetime\n",
        "from flask import escape, jsonify\n",
        "\n",
        "# Initialize Firebase Admin\n",
        "cred = credentials.Certificate('serviceAccountKey.json')\n",
        "firebase_admin.initialize_app(cred)\n",
        "db = firestore.client()"
      ],
      "metadata": {
        "id": "kN8IzFOlC3xL"
      },
      "execution_count": null,
      "outputs": []
    },
    {
      "cell_type": "code",
      "source": [
        "\n",
        "\n",
        "# Function definitions (fetch_loan_products, fetch_overdue_loans, etc.) remain the same\n",
        "def fetch_loan_products():\n",
        "    \"\"\"\n",
        "    Fetch all loan products and their penalty percentages.\n",
        "\n",
        "    :return: A dictionary mapping product IDs to their penalty percentages\n",
        "    \"\"\"\n",
        "    products_ref = db.collection('loanProduct')\n",
        "    products = products_ref.stream()\n",
        "    product_penalty_percentages = {}\n",
        "\n",
        "    for product in products:\n",
        "        product_data = product.to_dict()\n",
        "        product_penalty_percentages[product.id] = product_data.get('PenaltyPercentageDay', 0)\n",
        "\n",
        "    return product_penalty_percentages\n",
        "\n",
        "\n",
        "def fetch_overdue_loans():\n",
        "    \"\"\"\n",
        "    Fetch loans that are overdue.\n",
        "\n",
        "    :return: A list of overdue loan documents\n",
        "    \"\"\"\n",
        "    today = datetime.now().date()\n",
        "    loans_ref = db.collection('farmerSimpleLoanApply')\n",
        "    overdue_loans = []\n",
        "\n",
        "    today = datetime.now().date()\n",
        "    today_datetime = datetime.combine(today, datetime.min.time())\n",
        "\n",
        "    # Use 'today_datetime' instead of 'today' for Firestore operations\n",
        "    query = loans_ref.where('extendedDate', '<', today_datetime).stream()\n",
        "\n",
        "    for loan in query:\n",
        "        overdue_loans.append(loan)\n",
        "\n",
        "    return overdue_loans\n",
        "\n",
        "def calculate_daily_penalty(loan_details, penalty_percentage_per_day):\n",
        "    \"\"\"\n",
        "    Calculate the daily penalty for the current day and add it to the accumulated penalty.\n",
        "    :param loan_details: A dictionary containing loan details, including interest amount and accumulated penalty.\n",
        "    :param penalty_percentage_per_day: Penalty percentage per day\n",
        "    :return: The updated total penalty amount\n",
        "    \"\"\"\n",
        "    # Extract necessary details from loan_details\n",
        "    due_date = loan_details['DueDate'].date() if 'DueDate' in loan_details else None\n",
        "    extended_date = loan_details.get('ExtendedDate', due_date).date() if 'ExtendedDate' in loan_details else due_date\n",
        "    requested_amount = loan_details['requestedAmount']\n",
        "    interest_amount = loan_details['intrestAmount']\n",
        "    accumulated_penalty = loan_details.get('penaltyAmount', 0)\n",
        "    amount_paid = loan_details.get('AmountPaid', 0)\n",
        "\n",
        "    # Determine the final due date\n",
        "    final_due_date = extended_date if extended_date else due_date\n",
        "    today = datetime.now().date()\n",
        "\n",
        "    # No penalty if today's date is before or on the final due date\n",
        "    if today <= final_due_date or final_due_date is None:\n",
        "        return accumulated_penalty\n",
        "\n",
        "    # Calculate the total amount due (including any previous penalty but not including today's penalty)\n",
        "    total_due = requested_amount + interest_amount + accumulated_penalty - amount_paid\n",
        "    # Check if there's an outstanding amount to calculate the penalty on\n",
        "    if total_due <= 0:\n",
        "        return accumulated_penalty  # No additional penalty if the loan is paid up or if payment exceeds the due amount\n",
        "\n",
        "    # Calculate the daily penalty for today\n",
        "    daily_penalty = requested_amount * (penalty_percentage_per_day / 100)\n",
        "    print(daily_penalty)\n",
        "    # Update and return the accumulated penalty\n",
        "    print(accumulated_penalty)\n",
        "    updated_accumulated_penalty = accumulated_penalty + daily_penalty\n",
        "    loan_details['AccumulatedPenalty'] = updated_accumulated_penalty\n",
        "\n",
        "    return updated_accumulated_penalty\n",
        "\n",
        "\n",
        "def update_penalties_in_batch(overdue_loans, product_penalty_percentages):\n",
        "    batch = db.batch()\n",
        "    count = 0\n",
        "\n",
        "    for loan in overdue_loans:\n",
        "        loan_details = loan.to_dict()\n",
        "        product_id = loan_details.get('simpleLoanProduct')\n",
        "        penalty_percentage_per_day =product_id.get().to_dict().get(\"PenaltyPercentageDay\") # product_penalty_percentages.get(product_id, 0)\n",
        "\n",
        "\n",
        "        penalty_amount = calculate_daily_penalty(loan_details, penalty_percentage_per_day)\n",
        "        print(penalty_amount)\n",
        "\n",
        "        loan_ref = db.collection('farmerSimpleLoanApply').document(loan.id)\n",
        "        batch.update(loan_ref, {'penaltyAmount': penalty_amount})\n",
        "        count += 1\n",
        "\n",
        "        # Commit in batches of 500\n",
        "        if count % 500 == 0:\n",
        "            batch.commit()\n",
        "            batch = db.batch()\n",
        "\n",
        "    # Commit any remaining operations in the batch\n",
        "    if count % 500 != 0:\n",
        "        batch.commit()\n",
        "\n",
        "\n",
        "\n",
        "# Define the Cloud Function entry point\n",
        "# You can use request.args or request.json here if you need to process input data\n",
        "\n",
        "# Call your existing functions and process the data\n",
        "\n",
        "product_penalty_percentages = fetch_loan_products()\n",
        "overdue_loans = fetch_overdue_loans()\n",
        "\n",
        "update_penalties_in_batch(overdue_loans, product_penalty_percentages)\n"
      ],
      "metadata": {
        "colab": {
          "base_uri": "https://localhost:8080/"
        },
        "id": "L4buf7vgCozx",
        "outputId": "87c51504-ac49-4a0e-bc4f-42aa6088fd2e"
      },
      "execution_count": null,
      "outputs": [
        {
          "output_type": "stream",
          "name": "stderr",
          "text": [
            "/usr/local/lib/python3.10/dist-packages/google/cloud/firestore_v1/base_collection.py:290: UserWarning: Detected filter using positional arguments. Prefer using the 'filter' keyword argument instead.\n",
            "  return query.where(field_path, op_string, value)\n"
          ]
        },
        {
          "output_type": "stream",
          "name": "stdout",
          "text": [
            "500.0\n",
            "1000.0\n",
            "1500.0\n",
            "1.65\n",
            "0\n",
            "1.65\n"
          ]
        }
      ]
    },
    {
      "cell_type": "code",
      "source": [
        "updated_loan_doc = loan_ref.get()\n",
        "if updated_loan_doc.exists:\n",
        "    # Access the penaltyAmount field\n",
        "    print(updated_loan_doc.to_dict().get('penaltyAmount'))\n",
        "else:\n",
        "    print(\"Document does not exist.\")"
      ],
      "metadata": {
        "colab": {
          "base_uri": "https://localhost:8080/"
        },
        "id": "Cjk2AFMaFTfQ",
        "outputId": "7efe0758-ea62-418d-a29a-debf5bef24b0"
      },
      "execution_count": null,
      "outputs": [
        {
          "output_type": "stream",
          "name": "stdout",
          "text": [
            "0\n"
          ]
        }
      ]
    },
    {
      "cell_type": "code",
      "source": [
        "overdue_loans"
      ],
      "metadata": {
        "colab": {
          "base_uri": "https://localhost:8080/"
        },
        "id": "nDzvV_cQCpZK",
        "outputId": "0d2908a2-3104-42be-d00e-8a9ac11d5721"
      },
      "execution_count": null,
      "outputs": [
        {
          "output_type": "execute_result",
          "data": {
            "text/plain": [
              "[<google.cloud.firestore_v1.base_document.DocumentSnapshot at 0x7b72d03f9690>]"
            ]
          },
          "metadata": {},
          "execution_count": 15
        }
      ]
    },
    {
      "cell_type": "code",
      "source": [
        "from google.cloud import firestore\n",
        "import firebase_admin\n",
        "from firebase_admin import credentials, messaging, exceptions\n",
        "\n",
        "# Initialize Firestore client\n",
        "db = firestore.Client()\n",
        "\n",
        "# Initialize Firebase Admin SDK\n",
        "cred = credentials.Certificate('serviceAccountKey.json')\n",
        "firebase_admin.initialize_app(cred)\n"
      ],
      "metadata": {
        "id": "EGs6h6bM2TyK"
      },
      "execution_count": null,
      "outputs": []
    },
    {
      "cell_type": "code",
      "source": [
        "from firebase_admin import credentials, messaging, exceptions\n"
      ],
      "metadata": {
        "id": "S-53vYH92jaM"
      },
      "execution_count": null,
      "outputs": []
    },
    {
      "cell_type": "code",
      "source": [
        "\n",
        "  user_id = \"TMsWMgdVF1OvWF3xMrhGtGhsMjm2\"\n",
        "  user_ref = db.collection('users').document(user_id)\n",
        "  # Send out a confirmation Push Notification to the Creator\n",
        "  fcm_tokens = user_ref.collection('fcm_tokens').get()\n",
        "  for token_doc in fcm_tokens:\n",
        "    token_data = token_doc.to_dict()\n",
        "    fcm_token = token_data['fcm_token']\n",
        "\n",
        "    # Build the notification message\n",
        "    message = messaging.Message(\n",
        "      token=fcm_token,\n",
        "      notification=messaging.Notification(\n",
        "        title=\"request_json['title']\",\n",
        "        body=\"request_json['body']\"\n",
        "      ),\n",
        "      android=messaging.AndroidConfig(notification=messaging.AndroidNotification(icon='firebase_default'))\n",
        "    )\n",
        "\n",
        "    # Send the notification\n",
        "    try:\n",
        "      response = messaging.send(message)\n",
        "    except  exceptions.FirebaseError as e:\n",
        "      if e.code == 'NOT_FOUND':\n",
        "        # If the token is not registered, remove it from the collection\n",
        "        token_doc.reference.delete()\n",
        "      else:\n",
        "        # Handle any other errors that may occur\n",
        "        print(\"Error sending message:\", e)\n",
        "  # Log Push Notifications Being sent\n",
        "  print('Push Notifications sent')\n",
        "\n",
        "  return \"Push Notifications sent\", 200"
      ],
      "metadata": {
        "id": "-JzVnHX2C-DJ",
        "colab": {
          "base_uri": "https://localhost:8080/",
          "height": 158
        },
        "outputId": "a505f318-268d-407b-fbdd-57fbf8ef7028"
      },
      "execution_count": null,
      "outputs": [
        {
          "output_type": "stream",
          "name": "stdout",
          "text": [
            "Push Notifications sent\n"
          ]
        },
        {
          "output_type": "error",
          "ename": "SyntaxError",
          "evalue": "ignored",
          "traceback": [
            "\u001b[0;36m  File \u001b[0;32m\"<ipython-input-8-85588e74405f>\"\u001b[0;36m, line \u001b[0;32m32\u001b[0m\n\u001b[0;31m    return \"Push Notifications sent\", 200\u001b[0m\n\u001b[0m    ^\u001b[0m\n\u001b[0;31mSyntaxError\u001b[0m\u001b[0;31m:\u001b[0m 'return' outside function\n"
          ]
        }
      ]
    },
    {
      "cell_type": "code",
      "source": [],
      "metadata": {
        "id": "_yucfOu12XEJ"
      },
      "execution_count": null,
      "outputs": []
    }
  ]
}